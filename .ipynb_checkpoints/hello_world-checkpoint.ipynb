{
 "cells": [
  {
   "cell_type": "code",
   "execution_count": 1,
   "id": "26bf09d2-6a6e-4a75-899d-08d12ecf8fe6",
   "metadata": {},
   "outputs": [],
   "source": [
    "# Import modules\n",
    "import datetime"
   ]
  },
  {
   "cell_type": "code",
   "execution_count": 2,
   "id": "a7769ceb-688e-4521-a469-565aa83abf05",
   "metadata": {},
   "outputs": [],
   "source": [
    "# Get current time\n",
    "current_time = datetime.datetime.now()"
   ]
  },
  {
   "cell_type": "code",
   "execution_count": 4,
   "id": "90535c75-e3a5-4f48-bf23-6043a7ab3f50",
   "metadata": {},
   "outputs": [
    {
     "name": "stdout",
     "output_type": "stream",
     "text": [
      "Hellow world, today is: 2022-05-02T14:57:44.913310\n"
     ]
    }
   ],
   "source": [
    "# Print time\n",
    "print(\"Hellow world, today is:\", current_time.isoformat())"
   ]
  }
 ],
 "metadata": {
  "kernelspec": {
   "display_name": "Python 3 (ipykernel)",
   "language": "python",
   "name": "python3"
  },
  "language_info": {
   "codemirror_mode": {
    "name": "ipython",
    "version": 3
   },
   "file_extension": ".py",
   "mimetype": "text/x-python",
   "name": "python",
   "nbconvert_exporter": "python",
   "pygments_lexer": "ipython3",
   "version": "3.9.12"
  }
 },
 "nbformat": 4,
 "nbformat_minor": 5
}
